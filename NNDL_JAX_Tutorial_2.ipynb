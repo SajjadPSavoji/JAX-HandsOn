{
  "nbformat": 4,
  "nbformat_minor": 0,
  "metadata": {
    "colab": {
      "provenance": []
    },
    "kernelspec": {
      "name": "python3",
      "display_name": "Python 3"
    },
    "language_info": {
      "name": "python"
    },
    "accelerator": "TPU",
    "gpuClass": "standard"
  },
  "cells": [
    {
      "cell_type": "markdown",
      "metadata": {
        "id": "s8H3vBZPC5Ji"
      },
      "source": [
        "<center>\n",
        " <img src = \"https://raw.githubusercontent.com/google/jax/main/images/jax_logo_250px.png\">\n",
        " </center>\n",
        " \n",
        "# Machine Learning with JAX\n",
        "This notebook is a practical attempt towards building a simple machine learning framework based on JAX. For more resources including papers, blog posts, tutorial, and documentation refer to [awsome-JAX repo](https://github.com/n2cholas/awesome-jax#tutorials-and-blog-posts).\n",
        "<br>\n",
        "<br>\n",
        "\n",
        "## Recap\n",
        "Python frameworks has dominated the world of machine learning and deep learning by providing user friendly high-level libraries. Such as numpy, sklearn, pytorch, and tensorflow.[\\[ 2 \\]](https://jax.readthedocs.io/en/latest/notebooks/quickstart.html)\n",
        "<br>\n",
        "<br>\n",
        "\n",
        "While these libraries are suitable to general users, python being an interpretable dynamic language and numpy being only designed for cpu make them inadequate for the research community.\n",
        "\n",
        "JAX, hence, is aiming to solve the following shortcomming in the current ML/DL echosystem:\n",
        "\n",
        "* Accelerator agnostic library\n",
        "* Auto Defferentiation support\n",
        "* Optimizing operations\n",
        "* Speed-up by micro-operation optimization\n",
        "* Easy vectorization\n",
        "* Reproducable multi-accelerator training(RNG)\n",
        "<br>\n",
        "<br>\n",
        "\n",
        "## Points to remember before moving forward\n",
        " * JAX is a python machine learning framework developed in Google Research Team [\\[1\\]](https://www.deepmind.com/blog/using-jax-to-accelerate-our-research)\n",
        " * JAX API was designed based on Numpy --> easy to employ\n",
        " * JAX includes an extensible system of composable function transformations that help support machine learning research:\n",
        " \n",
        "$\\qquad$ 1. Differentiation\n",
        "\n",
        "$\\qquad$ 2. Vectorisation\n",
        "\n",
        "$\\qquad$ 3. JIT-compilation(speed up)\n"
      ]
    },
    {
      "cell_type": "code",
      "metadata": {
        "id": "3ABn5x8VESIo"
      },
      "source": [
        "# Let's import the necessary packages\n",
        "import jax\n",
        "import jax.numpy as jnp\n",
        "import numpy as np\n",
        "\n",
        "from jax import grad, jit, vmap, pmap\n",
        "\n",
        "from jax import random\n",
        "import matplotlib.pyplot as plt\n",
        "from copy import deepcopy\n",
        "from typing import Tuple, NamedTuple\n",
        "import functools"
      ],
      "execution_count": 50,
      "outputs": []
    },
    {
      "cell_type": "markdown",
      "metadata": {
        "id": "WRaFE9INWMGu"
      },
      "source": [
        "## Sateful and Stateless modules\n",
        "In machine learning, program state most often comes in the form of:\n",
        "\n",
        "* model parameters,\n",
        "* Optimizer state, and\n",
        "* stateful layers, such as BatchNorm.\n",
        "\n",
        "Some JAX transformations, most notably jax.jit, impose constraints on the functions they transform. In particular, the function transformed by jax.jit must have no side-effects.\n",
        "\n",
        "This is because any such side-effects will only be executed once, when the python version of the function is run during compilation. These side-effects will not be executed by the compiled function on subsequent runs."
      ]
    },
    {
      "cell_type": "code",
      "source": [
        "from IPython.display import HTML\n",
        "HTML('<center><iframe width=\"1000\" height=\"630\" src=\"https://www.youtube.com/embed/3qnX1OXQ3Ws\" frameborder=\"0\" allow=\"accelerometer; autoplay; encrypted-media; gyroscope; picture-in-picture\" allowfullscreen></iframe></center>')"
      ],
      "metadata": {
        "colab": {
          "base_uri": "https://localhost:8080/",
          "height": 651
        },
        "id": "g4NvYv1FClOZ",
        "outputId": "48152349-5b0f-4129-8ecc-2164be64a7d3"
      },
      "execution_count": 51,
      "outputs": [
        {
          "output_type": "execute_result",
          "data": {
            "text/plain": [
              "<IPython.core.display.HTML object>"
            ],
            "text/html": [
              "<center><iframe width=\"1000\" height=\"630\" src=\"https://www.youtube.com/embed/3qnX1OXQ3Ws\" frameborder=\"0\" allow=\"accelerometer; autoplay; encrypted-media; gyroscope; picture-in-picture\" allowfullscreen></iframe></center>"
            ]
          },
          "metadata": {},
          "execution_count": 51
        }
      ]
    },
    {
      "cell_type": "code",
      "metadata": {
        "id": "wH8CX7C3WTz2",
        "colab": {
          "base_uri": "https://localhost:8080/"
        },
        "outputId": "505e1283-3dd6-4f47-a96a-3a12b96d1183"
      },
      "source": [
        "# 1) We've seen in the last notebook/video that impure functions are problematic.\n",
        "\n",
        "g = 0.  # state\n",
        "\n",
        "# We're accessing some external state in this function which causes problems\n",
        "def impure_uses_globals(x):\n",
        "    return x + g\n",
        "\n",
        "# JAX captures the value of the global/state during the first run\n",
        "print (\"First call: \", jit(impure_uses_globals)(4.))\n",
        "\n",
        "# Let's update the global/state!\n",
        "g = 10.\n",
        "\n",
        "# Subsequent runs may silently use the cached value of the globals/state\n",
        "print (\"Second call: \", jit(impure_uses_globals)(5.))"
      ],
      "execution_count": 52,
      "outputs": [
        {
          "output_type": "stream",
          "name": "stdout",
          "text": [
            "First call:  4.0\n",
            "Second call:  5.0\n"
          ]
        }
      ]
    },
    {
      "cell_type": "code",
      "metadata": {
        "id": "vkPKuJHRZU-b"
      },
      "source": [
        "# 2) We've also seen this pattern how JAX's PRNG \n",
        "# (which is not stateful in contrast to NumPy's PRNG) is handling state.\n",
        "\n",
        "seed = 0\n",
        "state = jax.random.PRNGKey(seed)\n",
        "\n",
        "# We input the state, we somehow manipulate it and we return it back.\n",
        "# The state is not saved internally.\n",
        "state1, state2 = jax.random.split(state)  # recall: key/subkey was the terminology we used"
      ],
      "execution_count": 53,
      "outputs": []
    },
    {
      "cell_type": "code",
      "metadata": {
        "id": "Q5rUlTHNWO2E",
        "colab": {
          "base_uri": "https://localhost:8080/"
        },
        "outputId": "5c743bc8-9e80-41fa-ba8f-0680866e30a5"
      },
      "source": [
        "# Let's now explictly address and understand the problem of state!\n",
        "# Why? \n",
        "# Well, NNs love statefulness: model params, optimizer params, BatchNorm, etc.\n",
        "# and we've seen that JAX seems to have a problem with it.\n",
        "\n",
        "class Counter:\n",
        "    \"\"\"A simple counter.\"\"\"\n",
        "\n",
        "    def __init__(self):\n",
        "        self.n = 0 \n",
        "\n",
        "    def count(self) -> int:\n",
        "        \"\"\"Increments the counter and returns the new value.\"\"\"\n",
        "        self.n += 1\n",
        "        return self.n\n",
        "\n",
        "    def reset(self):\n",
        "        \"\"\"Resets the counter to zero.\"\"\"\n",
        "        self.n = 0\n",
        "\n",
        "\n",
        "counter = Counter()\n",
        "\n",
        "for _ in range(3):  # works like a charm\n",
        "    print(counter.count())"
      ],
      "execution_count": 54,
      "outputs": [
        {
          "output_type": "stream",
          "name": "stdout",
          "text": [
            "1\n",
            "2\n",
            "3\n"
          ]
        }
      ]
    },
    {
      "cell_type": "code",
      "metadata": {
        "id": "dtwGMqtBXeF-",
        "colab": {
          "base_uri": "https://localhost:8080/"
        },
        "outputId": "a65923e3-eb0b-4e90-9cb5-92dfff917010"
      },
      "source": [
        "counter.reset()\n",
        "fast_count = jax.jit(counter.count)\n",
        "\n",
        "for _ in range(3):  # oops, it's not working as it's supposed to be\n",
        "    print(fast_count())"
      ],
      "execution_count": 55,
      "outputs": [
        {
          "output_type": "stream",
          "name": "stdout",
          "text": [
            "1\n",
            "1\n",
            "1\n"
          ]
        }
      ]
    },
    {
      "cell_type": "code",
      "metadata": {
        "id": "0kvJ85xUdX44",
        "colab": {
          "base_uri": "https://localhost:8080/"
        },
        "outputId": "b1e099e9-65fe-4ca7-9b0f-4000f4493427"
      },
      "source": [
        "from jax import make_jaxpr  # let's use jaxpr to understand why this is happening\n",
        "\n",
        "counter.reset()\n",
        "print(make_jaxpr(counter.count)())"
      ],
      "execution_count": 56,
      "outputs": [
        {
          "output_type": "stream",
          "name": "stdout",
          "text": [
            "{ lambda ; . let  in (1,) }\n"
          ]
        }
      ]
    },
    {
      "cell_type": "markdown",
      "source": [
        "## The solution: explicit state\n",
        "\n",
        "Part of the problem with our counter was that the returned value didn’t depend on the arguments, meaning a constant was “baked into” the compiled output. But it shouldn’t be a constant – it should depend on the state. Well, then why don’t we make the state into an argument?"
      ],
      "metadata": {
        "id": "khUarjimDAbk"
      }
    },
    {
      "cell_type": "markdown",
      "metadata": {
        "id": "ueWSgnlfXx5N"
      },
      "source": [
        "In summary we used the following rule to convert a stateful class:\n",
        "\n",
        "```python\n",
        "class StatefulClass\n",
        "\n",
        "    state: State\n",
        "\n",
        "    def stateful_method(*args, **kwargs) -> Output:\n",
        "```\n",
        "\n",
        "into a class of the form:\n",
        "\n",
        "```python\n",
        "class StatelessClass\n",
        "\n",
        "    def stateless_method(state: State, *args, **kwargs) -> (Output, State):\n",
        "```"
      ]
    },
    {
      "cell_type": "code",
      "metadata": {
        "id": "pL1Mo84OXna3",
        "colab": {
          "base_uri": "https://localhost:8080/"
        },
        "outputId": "69d46e24-e900-41bc-dee7-fd70c19cc197"
      },
      "source": [
        "# Solution:\n",
        "\n",
        "CounterState = int  # our counter state is implemented as a simple integer\n",
        "\n",
        "class CounterV2:\n",
        "\n",
        "    def count(self, n: CounterState) -> Tuple[int, CounterState]:\n",
        "        # You could just return n+1, but here we separate its role as \n",
        "        # the output and as the counter state for didactic purposes.\n",
        "        # (as the output may be some arbitrary function of state in general case)\n",
        "        return n+1, n+1\n",
        "\n",
        "    def reset(self) -> CounterState:\n",
        "        return 0\n",
        "\n",
        "counter = CounterV2()\n",
        "state = counter.reset()  # notice how reset() now returns state (external vs internal imp)\n",
        "\n",
        "for _ in range(3):  # works like a charm pre-jit, let's see whether the jit version works\n",
        "    value, state = counter.count(state)  # looks familiar?\n",
        "    print(value)"
      ],
      "execution_count": 57,
      "outputs": [
        {
          "output_type": "stream",
          "name": "stdout",
          "text": [
            "1\n",
            "2\n",
            "3\n"
          ]
        }
      ]
    },
    {
      "cell_type": "code",
      "metadata": {
        "id": "Xwxy0k_vXqSG",
        "colab": {
          "base_uri": "https://localhost:8080/"
        },
        "outputId": "34ddd7a3-5c3e-42d0-99b9-602cef1dabad"
      },
      "source": [
        "state = counter.reset()\n",
        "fast_count = jax.jit(counter.count)\n",
        "\n",
        "for _ in range(3):  # nice, working as expected!\n",
        "    value, state = fast_count(state)\n",
        "    print(value)"
      ],
      "execution_count": 58,
      "outputs": [
        {
          "output_type": "stream",
          "name": "stdout",
          "text": [
            "1\n",
            "2\n",
            "3\n"
          ]
        }
      ]
    },
    {
      "cell_type": "markdown",
      "metadata": {
        "id": "xzxoOVo1ERVP"
      },
      "source": [
        "## Working with nested structures\n",
        "\n",
        "Often, we want to operate on objects that look like dicts of arrays, or lists of lists of dicts, or other nested structures. In JAX, we refer to these as pytrees, but you can sometimes see them called nests, or just trees.\n",
        "\n",
        "JAX has built-in support for such objects, both in its library functions as well as through the use of functions from jax.tree_utils (with the most common ones also available as jax.tree_*). This section will explain how to use them, give some useful snippets and point out common gotchas.\n",
        "\n",
        "## What is a pytree?\n",
        "a pytree is a container of leaf elements and/or more pytrees. Containers include lists, tuples, and dicts. A leaf element is anything that’s not a pytree, e.g. an array. In other words, a pytree is just a possibly-nested standard or user-registered Python container. If nested, note that the container types do not need to match. A single “leaf”, i.e. a non-container object, is also considered a pytree."
      ]
    },
    {
      "cell_type": "markdown",
      "metadata": {
        "id": "2Lh7AV-GGT4G"
      },
      "source": [
        "## Why pytrees?!\n",
        "\n",
        "In machine learning, some places where you commonly find pytrees are:\n",
        "\n",
        "* Model parameters\n",
        "* Dataset entries\n",
        "* RL agent observations\n",
        "* They also often arise naturally when working in bulk with datasets (e.g., lists of lists of dicts).\n",
        "\n"
      ]
    },
    {
      "cell_type": "code",
      "source": [
        "from IPython.display import HTML\n",
        "HTML('<center><iframe width=\"1000\" height=\"630\" src=\"https://www.youtube.com/embed/GCIix53G5pM\" frameborder=\"0\" allow=\"accelerometer; autoplay; encrypted-media; gyroscope; picture-in-picture\" allowfullscreen></iframe></center>')"
      ],
      "metadata": {
        "colab": {
          "base_uri": "https://localhost:8080/",
          "height": 651
        },
        "id": "9FRc6ohlJsv7",
        "outputId": "a0af9ac5-69e7-4188-8a39-b0c32c9c60ea"
      },
      "execution_count": 59,
      "outputs": [
        {
          "output_type": "execute_result",
          "data": {
            "text/plain": [
              "<IPython.core.display.HTML object>"
            ],
            "text/html": [
              "<center><iframe width=\"1000\" height=\"630\" src=\"https://www.youtube.com/embed/GCIix53G5pM\" frameborder=\"0\" allow=\"accelerometer; autoplay; encrypted-media; gyroscope; picture-in-picture\" allowfullscreen></iframe></center>"
            ]
          },
          "metadata": {},
          "execution_count": 59
        }
      ]
    },
    {
      "cell_type": "code",
      "metadata": {
        "id": "5Jy0Uf7mC4XA",
        "colab": {
          "base_uri": "https://localhost:8080/"
        },
        "outputId": "3353a424-b219-4982-f7a9-de616eb2ee0c"
      },
      "source": [
        "f = lambda x, y, z, w: x**2 + y**2 + z**2 + w**2  # + 175B params more (minus 4)\n",
        "\n",
        "# JAX: .backward() is not that great\n",
        "# also JAX:\n",
        "x, y, z, w = [1.]*4\n",
        "dfdx, dfdy, dfdz, dfdw = grad(f, argnums=(0, 1, 2, 3))(x, y, z, w)\n",
        "print(dfdx, dfdy, dfdz, dfdw)\n",
        "\n",
        "# Great now we just need to update our params!\n",
        "# lr = 0.001\n",
        "# x -= lr*dfdx\n",
        "# y -= lr*dfdy\n",
        "# ... (175B lines later)\n",
        "# w -= lr*dfdw\n",
        "\n",
        "# No, no, no. \n",
        "# We do have a better way."
      ],
      "execution_count": 60,
      "outputs": [
        {
          "output_type": "stream",
          "name": "stdout",
          "text": [
            "2.0 2.0 2.0 2.0\n"
          ]
        }
      ]
    },
    {
      "cell_type": "markdown",
      "metadata": {
        "id": "U3ehMR0LA3Fl"
      },
      "source": [
        "No, no, no. \n",
        "We do have a better way!\n",
        "\n",
        "We want to, more naturally, wrap our params in some more complex data structures like dictionaries, etc.  \n",
        "\n",
        "JAX knows how to deal with these! The answer is called a **PyTree**."
      ]
    },
    {
      "cell_type": "code",
      "metadata": {
        "id": "DlfzandhD7M3",
        "colab": {
          "base_uri": "https://localhost:8080/"
        },
        "outputId": "d685b176-7734-4a7b-80a4-b491c9354275"
      },
      "source": [
        "# A contrived example for pedagogical purposes\n",
        "# (if your mind needs to attach some semantics to parse this - treat it as model params)\n",
        "pytree_example = [\n",
        "    [1, 'a', object()],\n",
        "    (1, (2, 3), ()),\n",
        "    [1, {'k1': 2, 'k2': (3, 4)}, 5],\n",
        "    {'a': 2, 'b': (2, 3)},\n",
        "    jnp.array([1, 2, 3]),\n",
        "]\n",
        "\n",
        "# Let's see how many leaves they have:\n",
        "for pytree in pytree_example:\n",
        "    leaves = jax.tree_leaves(pytree)  # handy little function\n",
        "    print(f\"{repr(pytree):<45} has {len(leaves)} leaves: {leaves}\")"
      ],
      "execution_count": 61,
      "outputs": [
        {
          "output_type": "stream",
          "name": "stdout",
          "text": [
            "[1, 'a', <object object at 0x7fa813923980>]   has 3 leaves: [1, 'a', <object object at 0x7fa813923980>]\n",
            "(1, (2, 3), ())                               has 3 leaves: [1, 2, 3]\n",
            "[1, {'k1': 2, 'k2': (3, 4)}, 5]               has 5 leaves: [1, 2, 3, 4, 5]\n",
            "{'a': 2, 'b': (2, 3)}                         has 3 leaves: [2, 2, 3]\n",
            "DeviceArray([1, 2, 3], dtype=int32)           has 1 leaves: [DeviceArray([1, 2, 3], dtype=int32)]\n"
          ]
        },
        {
          "output_type": "stream",
          "name": "stderr",
          "text": [
            "<ipython-input-61-e8c0dbd1dca6>:13: FutureWarning: jax.tree_leaves is deprecated, and will be removed in a future release. Use jax.tree_util.tree_leaves instead.\n",
            "  leaves = jax.tree_leaves(pytree)  # handy little function\n"
          ]
        }
      ]
    },
    {
      "cell_type": "code",
      "metadata": {
        "id": "8OWOHjGxGcvy",
        "colab": {
          "base_uri": "https://localhost:8080/"
        },
        "outputId": "72c7934b-f7a5-4cc5-cea4-5972b18fdf3a"
      },
      "source": [
        "# How do we manipulate PyTrees?\n",
        "\n",
        "list_of_lists = [\n",
        "    {'a': 3},\n",
        "    [1, 2, 3],\n",
        "    [1, 2],\n",
        "    [1, 2, 3, 4]\n",
        "]\n",
        "\n",
        "# For single arg functions use tree_map\n",
        "# tree_map iterates through leaves and applies the lambda function\n",
        "print(jax.tree_map(lambda x: x*2, list_of_lists)) "
      ],
      "execution_count": 62,
      "outputs": [
        {
          "output_type": "stream",
          "name": "stdout",
          "text": [
            "[{'a': 6}, [2, 4, 6], [2, 4], [2, 4, 6, 8]]\n"
          ]
        }
      ]
    },
    {
      "cell_type": "code",
      "metadata": {
        "id": "jsSAxZ4JHwiS",
        "colab": {
          "base_uri": "https://localhost:8080/"
        },
        "outputId": "03581bd8-1f74-4b14-d457-42fa49f9afad"
      },
      "source": [
        "another_list_of_lists = list_of_lists\n",
        "print(jax.tree_map(lambda x, y: x+y, list_of_lists, another_list_of_lists))"
      ],
      "execution_count": 63,
      "outputs": [
        {
          "output_type": "stream",
          "name": "stdout",
          "text": [
            "[{'a': 6}, [2, 4, 6], [2, 4], [2, 4, 6, 8]]\n"
          ]
        }
      ]
    },
    {
      "cell_type": "code",
      "metadata": {
        "id": "09Pdhyh2ISb4",
        "colab": {
          "base_uri": "https://localhost:8080/",
          "height": 341
        },
        "outputId": "5f8c29e6-bbf1-4ed3-fd78-4025200e1833"
      },
      "source": [
        "# PyTrees need to have the same structure if we are to apply tree_multimap!\n",
        "another_list_of_lists = deepcopy(list_of_lists)\n",
        "another_list_of_lists.append([23])\n",
        "print(jax.tree_map(lambda x, y: x+y, list_of_lists, another_list_of_lists))"
      ],
      "execution_count": 64,
      "outputs": [
        {
          "output_type": "error",
          "ename": "ValueError",
          "evalue": "ignored",
          "traceback": [
            "\u001b[0;31m---------------------------------------------------------------------------\u001b[0m",
            "\u001b[0;31mValueError\u001b[0m                                Traceback (most recent call last)",
            "\u001b[0;32m<ipython-input-64-caf7f77021c4>\u001b[0m in \u001b[0;36m<module>\u001b[0;34m\u001b[0m\n\u001b[1;32m      2\u001b[0m \u001b[0manother_list_of_lists\u001b[0m \u001b[0;34m=\u001b[0m \u001b[0mdeepcopy\u001b[0m\u001b[0;34m(\u001b[0m\u001b[0mlist_of_lists\u001b[0m\u001b[0;34m)\u001b[0m\u001b[0;34m\u001b[0m\u001b[0;34m\u001b[0m\u001b[0m\n\u001b[1;32m      3\u001b[0m \u001b[0manother_list_of_lists\u001b[0m\u001b[0;34m.\u001b[0m\u001b[0mappend\u001b[0m\u001b[0;34m(\u001b[0m\u001b[0;34m[\u001b[0m\u001b[0;36m23\u001b[0m\u001b[0;34m]\u001b[0m\u001b[0;34m)\u001b[0m\u001b[0;34m\u001b[0m\u001b[0;34m\u001b[0m\u001b[0m\n\u001b[0;32m----> 4\u001b[0;31m \u001b[0mprint\u001b[0m\u001b[0;34m(\u001b[0m\u001b[0mjax\u001b[0m\u001b[0;34m.\u001b[0m\u001b[0mtree_map\u001b[0m\u001b[0;34m(\u001b[0m\u001b[0;32mlambda\u001b[0m \u001b[0mx\u001b[0m\u001b[0;34m,\u001b[0m \u001b[0my\u001b[0m\u001b[0;34m:\u001b[0m \u001b[0mx\u001b[0m\u001b[0;34m+\u001b[0m\u001b[0my\u001b[0m\u001b[0;34m,\u001b[0m \u001b[0mlist_of_lists\u001b[0m\u001b[0;34m,\u001b[0m \u001b[0manother_list_of_lists\u001b[0m\u001b[0;34m)\u001b[0m\u001b[0;34m)\u001b[0m\u001b[0;34m\u001b[0m\u001b[0;34m\u001b[0m\u001b[0m\n\u001b[0m",
            "\u001b[0;32m/usr/local/lib/python3.8/dist-packages/jax/_src/tree_util.py\u001b[0m in \u001b[0;36mtree_map\u001b[0;34m(f, tree, is_leaf, *rest)\u001b[0m\n\u001b[1;32m    204\u001b[0m   \"\"\"\n\u001b[1;32m    205\u001b[0m   \u001b[0mleaves\u001b[0m\u001b[0;34m,\u001b[0m \u001b[0mtreedef\u001b[0m \u001b[0;34m=\u001b[0m \u001b[0mtree_flatten\u001b[0m\u001b[0;34m(\u001b[0m\u001b[0mtree\u001b[0m\u001b[0;34m,\u001b[0m \u001b[0mis_leaf\u001b[0m\u001b[0;34m)\u001b[0m\u001b[0;34m\u001b[0m\u001b[0;34m\u001b[0m\u001b[0m\n\u001b[0;32m--> 206\u001b[0;31m   \u001b[0mall_leaves\u001b[0m \u001b[0;34m=\u001b[0m \u001b[0;34m[\u001b[0m\u001b[0mleaves\u001b[0m\u001b[0;34m]\u001b[0m \u001b[0;34m+\u001b[0m \u001b[0;34m[\u001b[0m\u001b[0mtreedef\u001b[0m\u001b[0;34m.\u001b[0m\u001b[0mflatten_up_to\u001b[0m\u001b[0;34m(\u001b[0m\u001b[0mr\u001b[0m\u001b[0;34m)\u001b[0m \u001b[0;32mfor\u001b[0m \u001b[0mr\u001b[0m \u001b[0;32min\u001b[0m \u001b[0mrest\u001b[0m\u001b[0;34m]\u001b[0m\u001b[0;34m\u001b[0m\u001b[0;34m\u001b[0m\u001b[0m\n\u001b[0m\u001b[1;32m    207\u001b[0m   \u001b[0;32mreturn\u001b[0m \u001b[0mtreedef\u001b[0m\u001b[0;34m.\u001b[0m\u001b[0munflatten\u001b[0m\u001b[0;34m(\u001b[0m\u001b[0mf\u001b[0m\u001b[0;34m(\u001b[0m\u001b[0;34m*\u001b[0m\u001b[0mxs\u001b[0m\u001b[0;34m)\u001b[0m \u001b[0;32mfor\u001b[0m \u001b[0mxs\u001b[0m \u001b[0;32min\u001b[0m \u001b[0mzip\u001b[0m\u001b[0;34m(\u001b[0m\u001b[0;34m*\u001b[0m\u001b[0mall_leaves\u001b[0m\u001b[0;34m)\u001b[0m\u001b[0;34m)\u001b[0m\u001b[0;34m\u001b[0m\u001b[0;34m\u001b[0m\u001b[0m\n\u001b[1;32m    208\u001b[0m \u001b[0;34m\u001b[0m\u001b[0m\n",
            "\u001b[0;32m/usr/local/lib/python3.8/dist-packages/jax/_src/tree_util.py\u001b[0m in \u001b[0;36m<listcomp>\u001b[0;34m(.0)\u001b[0m\n\u001b[1;32m    204\u001b[0m   \"\"\"\n\u001b[1;32m    205\u001b[0m   \u001b[0mleaves\u001b[0m\u001b[0;34m,\u001b[0m \u001b[0mtreedef\u001b[0m \u001b[0;34m=\u001b[0m \u001b[0mtree_flatten\u001b[0m\u001b[0;34m(\u001b[0m\u001b[0mtree\u001b[0m\u001b[0;34m,\u001b[0m \u001b[0mis_leaf\u001b[0m\u001b[0;34m)\u001b[0m\u001b[0;34m\u001b[0m\u001b[0;34m\u001b[0m\u001b[0m\n\u001b[0;32m--> 206\u001b[0;31m   \u001b[0mall_leaves\u001b[0m \u001b[0;34m=\u001b[0m \u001b[0;34m[\u001b[0m\u001b[0mleaves\u001b[0m\u001b[0;34m]\u001b[0m \u001b[0;34m+\u001b[0m \u001b[0;34m[\u001b[0m\u001b[0mtreedef\u001b[0m\u001b[0;34m.\u001b[0m\u001b[0mflatten_up_to\u001b[0m\u001b[0;34m(\u001b[0m\u001b[0mr\u001b[0m\u001b[0;34m)\u001b[0m \u001b[0;32mfor\u001b[0m \u001b[0mr\u001b[0m \u001b[0;32min\u001b[0m \u001b[0mrest\u001b[0m\u001b[0;34m]\u001b[0m\u001b[0;34m\u001b[0m\u001b[0;34m\u001b[0m\u001b[0m\n\u001b[0m\u001b[1;32m    207\u001b[0m   \u001b[0;32mreturn\u001b[0m \u001b[0mtreedef\u001b[0m\u001b[0;34m.\u001b[0m\u001b[0munflatten\u001b[0m\u001b[0;34m(\u001b[0m\u001b[0mf\u001b[0m\u001b[0;34m(\u001b[0m\u001b[0;34m*\u001b[0m\u001b[0mxs\u001b[0m\u001b[0;34m)\u001b[0m \u001b[0;32mfor\u001b[0m \u001b[0mxs\u001b[0m \u001b[0;32min\u001b[0m \u001b[0mzip\u001b[0m\u001b[0;34m(\u001b[0m\u001b[0;34m*\u001b[0m\u001b[0mall_leaves\u001b[0m\u001b[0;34m)\u001b[0m\u001b[0;34m)\u001b[0m\u001b[0;34m\u001b[0m\u001b[0;34m\u001b[0m\u001b[0m\n\u001b[1;32m    208\u001b[0m \u001b[0;34m\u001b[0m\u001b[0m\n",
            "\u001b[0;31mValueError\u001b[0m: List arity mismatch: 5 != 4; list: [{'a': 3}, [1, 2, 3], [1, 2], [1, 2, 3, 4], [23]]."
          ]
        }
      ]
    },
    {
      "cell_type": "markdown",
      "metadata": {
        "id": "RWWsaJOZKQwI"
      },
      "source": [
        "## MLP with JAX + Pytrees\n",
        "A simple example of training an MLP displays some ways in which pytree operations come in useful:"
      ]
    },
    {
      "cell_type": "code",
      "metadata": {
        "id": "qQYnvV3xIhrw",
        "colab": {
          "base_uri": "https://localhost:8080/"
        },
        "outputId": "52632d84-05e9-4bfe-e70b-49e0f95d74f0"
      },
      "source": [
        "def init_mlp_params(layer_widths):\n",
        "    params = []\n",
        "\n",
        "    # Allocate weights and biases (model parameters)\n",
        "    # Notice: we're not using JAX's PRNG here - doesn't matter for this simple example\n",
        "    for n_in, n_out in zip(layer_widths[:-1], layer_widths[1:]):\n",
        "        params.append(\n",
        "            dict(weights=np.random.normal(size=(n_in, n_out)) * np.sqrt(2/n_in),\n",
        "                biases=np.ones(shape=(n_out,))\n",
        "        )\n",
        "    )\n",
        "\n",
        "    return params\n",
        "\n",
        "# Instantiate a single input - single output, 3 layer (2 hidden layers) deep MLP\n",
        "params = init_mlp_params([1, 128, 128, 1])\n",
        "\n",
        "# Another example of how we might use tree_map - verify that shapes make sense:\n",
        "jax.tree_map(lambda x: x.shape, params)"
      ],
      "execution_count": 65,
      "outputs": [
        {
          "output_type": "execute_result",
          "data": {
            "text/plain": [
              "[{'biases': (128,), 'weights': (1, 128)},\n",
              " {'biases': (128,), 'weights': (128, 128)},\n",
              " {'biases': (1,), 'weights': (128, 1)}]"
            ]
          },
          "metadata": {},
          "execution_count": 65
        }
      ]
    },
    {
      "cell_type": "code",
      "metadata": {
        "id": "hwQKdHJ0J37n"
      },
      "source": [
        "def forward(params, x):\n",
        "    *hidden, last = params\n",
        "\n",
        "    for layer in hidden:\n",
        "        x = jax.nn.relu(jnp.dot(x, layer['weights']) + layer['biases'])\n",
        "\n",
        "    return jnp.dot(x, last['weights']) + last['biases']\n",
        "\n",
        "def loss_fn(params, x, y):\n",
        "    return jnp.mean((forward(params, x) - y) ** 2)  # MSE loss\n",
        "\n",
        "lr = 0.0001\n",
        "\n",
        "@jit  # notice how we do jit only at the highest level - XLA will have plenty of space to optimize\n",
        "def update(params, x, y):\n",
        "\n",
        "    # Note that grads is a pytree with the same structure as params.\n",
        "    # grad is one of the many JAX functions that has built-in support for pytrees!\n",
        "    grads = jax.grad(loss_fn)(params, x, y)\n",
        "\n",
        "    # Task: analyze grads and make sure it has the same structure as params\n",
        "\n",
        "    # SGD update\n",
        "    return jax.tree_map(\n",
        "        lambda p, g: p - lr * g, params, grads  # for every leaf i.e. for every param of MLP\n",
        "    )"
      ],
      "execution_count": 66,
      "outputs": []
    },
    {
      "cell_type": "code",
      "metadata": {
        "colab": {
          "base_uri": "https://localhost:8080/",
          "height": 265
        },
        "id": "b97nTnyrKb40",
        "outputId": "620b7f72-c629-4f56-db46-15cef4e26dfb"
      },
      "source": [
        "xs = np.random.normal(size=(128, 1))\n",
        "ys = jnp.sin(3*xs)  # let's learn how to regress a parabola\n",
        "\n",
        "# Task experiment a bit with other functions (polynomials, sin, etc.)\n",
        "\n",
        "num_epochs = 5000\n",
        "for _ in range(num_epochs):\n",
        "    params = update(params, xs, ys)  # again our lovely pattern\n",
        "\n",
        "plt.scatter(xs, ys)\n",
        "plt.scatter(xs, forward(params, xs), label='Model prediction')\n",
        "plt.legend();"
      ],
      "execution_count": 70,
      "outputs": [
        {
          "output_type": "display_data",
          "data": {
            "text/plain": [
              "<Figure size 432x288 with 1 Axes>"
            ],
            "image/png": "[encoded data removed]"
          },
          "metadata": {
            "needs_background": "light"
          }
        }
      ]
    },
    {
      "cell_type": "markdown",
      "metadata": {
        "id": "P7d5Ff_MQhq-"
      },
      "source": [
        "### Custom PyTrees\n",
        "\n",
        "So far, we’ve only been considering pytrees of lists, tuples, and dicts; everything else is considered a leaf. Therefore, if you define your own container class, it will be considered a leaf, even if it has trees inside it:"
      ]
    },
    {
      "cell_type": "code",
      "metadata": {
        "id": "oGHnTdw5NvMQ"
      },
      "source": [
        "class MyContainer:  # this could be a linear layer a conv layer or whatever\n",
        "    \"\"\"A named container.\"\"\"\n",
        "    def __init__(self, name: str, a: int, b: int, c: int):\n",
        "        self.name = name\n",
        "        self.a = a\n",
        "        self.b = b\n",
        "        self.c = c"
      ],
      "execution_count": 71,
      "outputs": []
    },
    {
      "cell_type": "code",
      "metadata": {
        "id": "LkODtq-TQzzd",
        "colab": {
          "base_uri": "https://localhost:8080/"
        },
        "outputId": "da5df992-dfbe-497b-a362-4df300b19942"
      },
      "source": [
        "example_pytree = [MyContainer('Alice', 1, 2, 3), MyContainer('Bob', 4, 5, 6)]  # 8 leaves? Right? Noup.\n",
        "\n",
        "leaves = jax.tree_leaves(example_pytree)\n",
        "print(f\"{repr(example_pytree):<45}\\n has {len(leaves)} leaves:\\n {leaves}\")"
      ],
      "execution_count": 72,
      "outputs": [
        {
          "output_type": "stream",
          "name": "stdout",
          "text": [
            "[<__main__.MyContainer object at 0x7fa815280490>, <__main__.MyContainer object at 0x7fa815280250>]\n",
            " has 2 leaves:\n",
            " [<__main__.MyContainer object at 0x7fa815280490>, <__main__.MyContainer object at 0x7fa815280250>]\n"
          ]
        },
        {
          "output_type": "stream",
          "name": "stderr",
          "text": [
            "<ipython-input-72-c5e0b4631d08>:3: FutureWarning: jax.tree_leaves is deprecated, and will be removed in a future release. Use jax.tree_util.tree_leaves instead.\n",
            "  leaves = jax.tree_leaves(example_pytree)\n"
          ]
        }
      ]
    },
    {
      "cell_type": "code",
      "metadata": {
        "id": "kOWUT1xJQ6ct",
        "colab": {
          "base_uri": "https://localhost:8080/",
          "height": 239
        },
        "outputId": "b7acc429-da82-4b49-ae80-c91c4e9c7e5f"
      },
      "source": [
        "print(jax.tree_map(lambda x: x + 1, example_pytree))  # this will not work :/ it'd be nice if it did"
      ],
      "execution_count": 73,
      "outputs": [
        {
          "output_type": "error",
          "ename": "TypeError",
          "evalue": "ignored",
          "traceback": [
            "\u001b[0;31m---------------------------------------------------------------------------\u001b[0m",
            "\u001b[0;31mTypeError\u001b[0m                                 Traceback (most recent call last)",
            "\u001b[0;32m<ipython-input-73-80b5eee956da>\u001b[0m in \u001b[0;36m<module>\u001b[0;34m\u001b[0m\n\u001b[0;32m----> 1\u001b[0;31m \u001b[0mprint\u001b[0m\u001b[0;34m(\u001b[0m\u001b[0mjax\u001b[0m\u001b[0;34m.\u001b[0m\u001b[0mtree_map\u001b[0m\u001b[0;34m(\u001b[0m\u001b[0;32mlambda\u001b[0m \u001b[0mx\u001b[0m\u001b[0;34m:\u001b[0m \u001b[0mx\u001b[0m \u001b[0;34m+\u001b[0m \u001b[0;36m1\u001b[0m\u001b[0;34m,\u001b[0m \u001b[0mexample_pytree\u001b[0m\u001b[0;34m)\u001b[0m\u001b[0;34m)\u001b[0m  \u001b[0;31m# this will not work :/ it'd be nice if it did\u001b[0m\u001b[0;34m\u001b[0m\u001b[0;34m\u001b[0m\u001b[0m\n\u001b[0m",
            "\u001b[0;32m/usr/local/lib/python3.8/dist-packages/jax/_src/tree_util.py\u001b[0m in \u001b[0;36mtree_map\u001b[0;34m(f, tree, is_leaf, *rest)\u001b[0m\n\u001b[1;32m    205\u001b[0m   \u001b[0mleaves\u001b[0m\u001b[0;34m,\u001b[0m \u001b[0mtreedef\u001b[0m \u001b[0;34m=\u001b[0m \u001b[0mtree_flatten\u001b[0m\u001b[0;34m(\u001b[0m\u001b[0mtree\u001b[0m\u001b[0;34m,\u001b[0m \u001b[0mis_leaf\u001b[0m\u001b[0;34m)\u001b[0m\u001b[0;34m\u001b[0m\u001b[0;34m\u001b[0m\u001b[0m\n\u001b[1;32m    206\u001b[0m   \u001b[0mall_leaves\u001b[0m \u001b[0;34m=\u001b[0m \u001b[0;34m[\u001b[0m\u001b[0mleaves\u001b[0m\u001b[0;34m]\u001b[0m \u001b[0;34m+\u001b[0m \u001b[0;34m[\u001b[0m\u001b[0mtreedef\u001b[0m\u001b[0;34m.\u001b[0m\u001b[0mflatten_up_to\u001b[0m\u001b[0;34m(\u001b[0m\u001b[0mr\u001b[0m\u001b[0;34m)\u001b[0m \u001b[0;32mfor\u001b[0m \u001b[0mr\u001b[0m \u001b[0;32min\u001b[0m \u001b[0mrest\u001b[0m\u001b[0;34m]\u001b[0m\u001b[0;34m\u001b[0m\u001b[0;34m\u001b[0m\u001b[0m\n\u001b[0;32m--> 207\u001b[0;31m   \u001b[0;32mreturn\u001b[0m \u001b[0mtreedef\u001b[0m\u001b[0;34m.\u001b[0m\u001b[0munflatten\u001b[0m\u001b[0;34m(\u001b[0m\u001b[0mf\u001b[0m\u001b[0;34m(\u001b[0m\u001b[0;34m*\u001b[0m\u001b[0mxs\u001b[0m\u001b[0;34m)\u001b[0m \u001b[0;32mfor\u001b[0m \u001b[0mxs\u001b[0m \u001b[0;32min\u001b[0m \u001b[0mzip\u001b[0m\u001b[0;34m(\u001b[0m\u001b[0;34m*\u001b[0m\u001b[0mall_leaves\u001b[0m\u001b[0;34m)\u001b[0m\u001b[0;34m)\u001b[0m\u001b[0;34m\u001b[0m\u001b[0;34m\u001b[0m\u001b[0m\n\u001b[0m\u001b[1;32m    208\u001b[0m \u001b[0;34m\u001b[0m\u001b[0m\n\u001b[1;32m    209\u001b[0m \u001b[0;32mdef\u001b[0m \u001b[0mbuild_tree\u001b[0m\u001b[0;34m(\u001b[0m\u001b[0mtreedef\u001b[0m\u001b[0;34m:\u001b[0m \u001b[0mPyTreeDef\u001b[0m\u001b[0;34m,\u001b[0m \u001b[0mxs\u001b[0m\u001b[0;34m:\u001b[0m \u001b[0mAny\u001b[0m\u001b[0;34m)\u001b[0m \u001b[0;34m->\u001b[0m \u001b[0mAny\u001b[0m\u001b[0;34m:\u001b[0m\u001b[0;34m\u001b[0m\u001b[0;34m\u001b[0m\u001b[0m\n",
            "\u001b[0;32m/usr/local/lib/python3.8/dist-packages/jax/_src/tree_util.py\u001b[0m in \u001b[0;36m<genexpr>\u001b[0;34m(.0)\u001b[0m\n\u001b[1;32m    205\u001b[0m   \u001b[0mleaves\u001b[0m\u001b[0;34m,\u001b[0m \u001b[0mtreedef\u001b[0m \u001b[0;34m=\u001b[0m \u001b[0mtree_flatten\u001b[0m\u001b[0;34m(\u001b[0m\u001b[0mtree\u001b[0m\u001b[0;34m,\u001b[0m \u001b[0mis_leaf\u001b[0m\u001b[0;34m)\u001b[0m\u001b[0;34m\u001b[0m\u001b[0;34m\u001b[0m\u001b[0m\n\u001b[1;32m    206\u001b[0m   \u001b[0mall_leaves\u001b[0m \u001b[0;34m=\u001b[0m \u001b[0;34m[\u001b[0m\u001b[0mleaves\u001b[0m\u001b[0;34m]\u001b[0m \u001b[0;34m+\u001b[0m \u001b[0;34m[\u001b[0m\u001b[0mtreedef\u001b[0m\u001b[0;34m.\u001b[0m\u001b[0mflatten_up_to\u001b[0m\u001b[0;34m(\u001b[0m\u001b[0mr\u001b[0m\u001b[0;34m)\u001b[0m \u001b[0;32mfor\u001b[0m \u001b[0mr\u001b[0m \u001b[0;32min\u001b[0m \u001b[0mrest\u001b[0m\u001b[0;34m]\u001b[0m\u001b[0;34m\u001b[0m\u001b[0;34m\u001b[0m\u001b[0m\n\u001b[0;32m--> 207\u001b[0;31m   \u001b[0;32mreturn\u001b[0m \u001b[0mtreedef\u001b[0m\u001b[0;34m.\u001b[0m\u001b[0munflatten\u001b[0m\u001b[0;34m(\u001b[0m\u001b[0mf\u001b[0m\u001b[0;34m(\u001b[0m\u001b[0;34m*\u001b[0m\u001b[0mxs\u001b[0m\u001b[0;34m)\u001b[0m \u001b[0;32mfor\u001b[0m \u001b[0mxs\u001b[0m \u001b[0;32min\u001b[0m \u001b[0mzip\u001b[0m\u001b[0;34m(\u001b[0m\u001b[0;34m*\u001b[0m\u001b[0mall_leaves\u001b[0m\u001b[0;34m)\u001b[0m\u001b[0;34m)\u001b[0m\u001b[0;34m\u001b[0m\u001b[0;34m\u001b[0m\u001b[0m\n\u001b[0m\u001b[1;32m    208\u001b[0m \u001b[0;34m\u001b[0m\u001b[0m\n\u001b[1;32m    209\u001b[0m \u001b[0;32mdef\u001b[0m \u001b[0mbuild_tree\u001b[0m\u001b[0;34m(\u001b[0m\u001b[0mtreedef\u001b[0m\u001b[0;34m:\u001b[0m \u001b[0mPyTreeDef\u001b[0m\u001b[0;34m,\u001b[0m \u001b[0mxs\u001b[0m\u001b[0;34m:\u001b[0m \u001b[0mAny\u001b[0m\u001b[0;34m)\u001b[0m \u001b[0;34m->\u001b[0m \u001b[0mAny\u001b[0m\u001b[0;34m:\u001b[0m\u001b[0;34m\u001b[0m\u001b[0;34m\u001b[0m\u001b[0m\n",
            "\u001b[0;32m<ipython-input-73-80b5eee956da>\u001b[0m in \u001b[0;36m<lambda>\u001b[0;34m(x)\u001b[0m\n\u001b[0;32m----> 1\u001b[0;31m \u001b[0mprint\u001b[0m\u001b[0;34m(\u001b[0m\u001b[0mjax\u001b[0m\u001b[0;34m.\u001b[0m\u001b[0mtree_map\u001b[0m\u001b[0;34m(\u001b[0m\u001b[0;32mlambda\u001b[0m \u001b[0mx\u001b[0m\u001b[0;34m:\u001b[0m \u001b[0mx\u001b[0m \u001b[0;34m+\u001b[0m \u001b[0;36m1\u001b[0m\u001b[0;34m,\u001b[0m \u001b[0mexample_pytree\u001b[0m\u001b[0;34m)\u001b[0m\u001b[0;34m)\u001b[0m  \u001b[0;31m# this will not work :/ it'd be nice if it did\u001b[0m\u001b[0;34m\u001b[0m\u001b[0;34m\u001b[0m\u001b[0m\n\u001b[0m",
            "\u001b[0;31mTypeError\u001b[0m: unsupported operand type(s) for +: 'MyContainer' and 'int'"
          ]
        }
      ]
    },
    {
      "cell_type": "markdown",
      "source": [
        "To solve this, we need to register our container with JAX by telling it how to flatten and unflatten it:"
      ],
      "metadata": {
        "id": "7YHDD3XgLTdn"
      }
    },
    {
      "cell_type": "code",
      "metadata": {
        "id": "PkWAbkWgR8_K"
      },
      "source": [
        "# Let's get it to work! We'll need to define 2 functions (flatten/unflatten)\n",
        "\n",
        "def flatten_MyContainer(container):\n",
        "    \"\"\"Returns an iterable over container contents, and aux data.\"\"\"\n",
        "    flat_contents = [container.a, container.b, container.c]\n",
        "\n",
        "    # we don't want the name to appear as a child, so it is auxiliary data.\n",
        "    # auxiliary data is usually a description of the structure of a node,\n",
        "    # e.g., the keys of a dict -- anything that isn't a node's children.\n",
        "    aux_data = container.name\n",
        "\n",
        "    return flat_contents, aux_data\n",
        "\n",
        "def unflatten_MyContainer(aux_data, flat_contents):\n",
        "    \"\"\"Converts aux data and the flat contents into a MyContainer.\"\"\"\n",
        "    return MyContainer(aux_data, *flat_contents)\n",
        "\n",
        "# Register a custom PyTree node\n",
        "jax.tree_util.register_pytree_node(MyContainer, flatten_MyContainer, unflatten_MyContainer)"
      ],
      "execution_count": 24,
      "outputs": []
    },
    {
      "cell_type": "code",
      "metadata": {
        "id": "QmdGdkO0FVx7",
        "colab": {
          "base_uri": "https://localhost:8080/"
        },
        "outputId": "63c3e49a-b625-4255-a723-afe9984458a4"
      },
      "source": [
        "# Let's try again!\n",
        "leaves = jax.tree_leaves(example_pytree)\n",
        "print(f\"{repr(example_pytree):<45}\\n has {len(leaves)} leaves:\\n {leaves}\")"
      ],
      "execution_count": 25,
      "outputs": [
        {
          "output_type": "stream",
          "name": "stdout",
          "text": [
            "[<__main__.MyContainer object at 0x7fa813914b50>, <__main__.MyContainer object at 0x7fa813914e50>]\n",
            " has 6 leaves:\n",
            " [1, 2, 3, 4, 5, 6]\n"
          ]
        },
        {
          "output_type": "stream",
          "name": "stderr",
          "text": [
            "<ipython-input-25-a3cbc04b51ae>:2: FutureWarning: jax.tree_leaves is deprecated, and will be removed in a future release. Use jax.tree_util.tree_leaves instead.\n",
            "  leaves = jax.tree_leaves(example_pytree)\n"
          ]
        }
      ]
    },
    {
      "cell_type": "code",
      "metadata": {
        "id": "UXv9VXCBUI-F",
        "colab": {
          "base_uri": "https://localhost:8080/"
        },
        "outputId": "0b3df5af-7e77-488d-f9bf-2383ff847524"
      },
      "source": [
        "# Let's try applying tree map again\n",
        "result = jax.tree_map(lambda x: x + 1, example_pytree)\n",
        "print(jax.tree_leaves(result))  # it works now as expected!"
      ],
      "execution_count": 26,
      "outputs": [
        {
          "output_type": "stream",
          "name": "stdout",
          "text": [
            "[2, 3, 4, 5, 6, 7]\n"
          ]
        },
        {
          "output_type": "stream",
          "name": "stderr",
          "text": [
            "<ipython-input-26-0ea77d340edb>:3: FutureWarning: jax.tree_leaves is deprecated, and will be removed in a future release. Use jax.tree_util.tree_leaves instead.\n",
            "  print(jax.tree_leaves(result))  # it works now as expected!\n"
          ]
        }
      ]
    },
    {
      "cell_type": "markdown",
      "metadata": {
        "id": "qFm42oF_GeJz"
      },
      "source": [
        "Great! We can now create custom layers and we can train even bigger neural networks!\n",
        "\n",
        "But what if our neural network is really big? How do we handle training it across multiple devices? \n",
        "\n",
        "I'm glad you asked."
      ]
    },
    {
      "cell_type": "markdown",
      "metadata": {
        "id": "j2IStXTEZlul"
      },
      "source": [
        "## Parallelism in JAX\n",
        "\n",
        "In this section we will discuss the facilities built into JAX for single-program, multiple-data (SPMD) code.\n",
        "\n",
        "SPMD refers to a parallelism technique where the same computation (e.g., the forward pass of a neural net) is run on different input data (e.g., different inputs in a batch) in parallel on different devices (e.g., several TPUs).\n",
        "\n",
        "Conceptually, this is not very different from vectorisation, where the same operations occur in parallel in different parts of memory on the same device. We have already seen that vectorisation is supported in JAX as a program transformation, jax.vmap. JAX supports device parallelism analogously, using jax.pmap to transform a function written for one device into a function that runs in parallel on multiple devices."
      ]
    },
    {
      "cell_type": "code",
      "source": [
        "from IPython.display import HTML\n",
        "HTML('<center><iframe width=\"1000\" height=\"630\" src=\"https://www.youtube.com/embed/W1vfBDFLm7Q\" frameborder=\"0\" allow=\"accelerometer; autoplay; encrypted-media; gyroscope; picture-in-picture\" allowfullscreen></iframe></center>')"
      ],
      "metadata": {
        "colab": {
          "base_uri": "https://localhost:8080/",
          "height": 651
        },
        "id": "7qiXABioN653",
        "outputId": "5eb5ceb9-183b-4441-b628-9d35182f4e6c"
      },
      "execution_count": 27,
      "outputs": [
        {
          "output_type": "execute_result",
          "data": {
            "text/plain": [
              "<IPython.core.display.HTML object>"
            ],
            "text/html": [
              "<center><iframe width=\"1000\" height=\"630\" src=\"https://www.youtube.com/embed/W1vfBDFLm7Q\" frameborder=\"0\" allow=\"accelerometer; autoplay; encrypted-media; gyroscope; picture-in-picture\" allowfullscreen></iframe></center>"
            ]
          },
          "metadata": {},
          "execution_count": 27
        }
      ]
    },
    {
      "cell_type": "markdown",
      "metadata": {
        "id": "DNw_It2UJY-I"
      },
      "source": [
        "# `pmap` basics"
      ]
    },
    {
      "cell_type": "markdown",
      "source": [
        "## Colab TPU Setup\n",
        "\n",
        "If you’re running this code in Google Colab, be sure to choose Runtime→Change Runtime Type and choose TPU from the Hardware Accelerator menu.\n",
        "\n",
        "Once this is done, you can run the following to set up the Colab TPU for use with JAX:"
      ],
      "metadata": {
        "id": "Q3M3pDhTOlaz"
      }
    },
    {
      "cell_type": "code",
      "metadata": {
        "id": "lTpSJCfhZnyS",
        "colab": {
          "base_uri": "https://localhost:8080/"
        },
        "outputId": "9fb2c039-0955-4197-a8e3-067d2fd81258"
      },
      "source": [
        "# Let's try to get ourselves some TPU goodness\n",
        "import jax.tools.colab_tpu\n",
        "jax.tools.colab_tpu.setup_tpu()\n",
        "\n",
        "jax.devices()"
      ],
      "execution_count": 74,
      "outputs": [
        {
          "output_type": "execute_result",
          "data": {
            "text/plain": [
              "[TpuDevice(id=0, process_index=0, coords=(0,0,0), core_on_chip=0),\n",
              " TpuDevice(id=1, process_index=0, coords=(0,0,0), core_on_chip=1),\n",
              " TpuDevice(id=2, process_index=0, coords=(1,0,0), core_on_chip=0),\n",
              " TpuDevice(id=3, process_index=0, coords=(1,0,0), core_on_chip=1),\n",
              " TpuDevice(id=4, process_index=0, coords=(0,1,0), core_on_chip=0),\n",
              " TpuDevice(id=5, process_index=0, coords=(0,1,0), core_on_chip=1),\n",
              " TpuDevice(id=6, process_index=0, coords=(1,1,0), core_on_chip=0),\n",
              " TpuDevice(id=7, process_index=0, coords=(1,1,0), core_on_chip=1)]"
            ]
          },
          "metadata": {},
          "execution_count": 74
        }
      ]
    },
    {
      "cell_type": "code",
      "metadata": {
        "id": "brnMl8fKbXBQ",
        "colab": {
          "base_uri": "https://localhost:8080/"
        },
        "outputId": "355711e1-ef65-497c-9e3b-7b3a3d45603d"
      },
      "source": [
        "# Let's use a simple running example here\n",
        "x = np.arange(5)  # signal\n",
        "w = np.array([2., 3., 4.])  # window/kernel\n",
        "\n",
        "def convolve(w, x):  # implementation of 1D convolution/correlation\n",
        "    output = []\n",
        "\n",
        "    for i in range(1, len(x)-1):\n",
        "        output.append(jnp.dot(x[i-1:i+2], w))\n",
        "\n",
        "    return jnp.array(output)\n",
        "\n",
        "result = convolve(w, x)\n",
        "print(repr(result))"
      ],
      "execution_count": 75,
      "outputs": [
        {
          "output_type": "stream",
          "name": "stdout",
          "text": [
            "DeviceArray([11., 20., 29.], dtype=float32)\n"
          ]
        }
      ]
    },
    {
      "cell_type": "code",
      "metadata": {
        "id": "sXd_KxABb8hS",
        "colab": {
          "base_uri": "https://localhost:8080/"
        },
        "outputId": "690be5bc-1ae7-459e-b560-1d31b695679d"
      },
      "source": [
        "n_devices = jax.local_device_count() \n",
        "print(f'Number of available devices: {n_devices}')\n",
        "\n",
        "# Let's now imagine we have a much heavier load (a batch of examples)\n",
        "xs = np.arange(5 * n_devices).reshape(-1, 5)\n",
        "ws = np.stack([w] * n_devices)\n",
        "\n",
        "print(xs.shape, ws.shape)"
      ],
      "execution_count": 76,
      "outputs": [
        {
          "output_type": "stream",
          "name": "stdout",
          "text": [
            "Number of available devices: 8\n",
            "(8, 5) (8, 3)\n"
          ]
        }
      ]
    },
    {
      "cell_type": "code",
      "metadata": {
        "id": "B6REXnIccSZp",
        "colab": {
          "base_uri": "https://localhost:8080/"
        },
        "outputId": "1f5e4a8c-40e9-4d9d-8208-65ea2ae48b8b"
      },
      "source": [
        "# First way to optimize this is to simply use vmap\n",
        "vmap_result = jax.vmap(convolve)(ws, xs)\n",
        "print(repr(vmap_result))"
      ],
      "execution_count": 77,
      "outputs": [
        {
          "output_type": "stream",
          "name": "stdout",
          "text": [
            "DeviceArray([[ 11.,  20.,  29.],\n",
            "             [ 56.,  65.,  74.],\n",
            "             [101., 110., 119.],\n",
            "             [146., 155., 164.],\n",
            "             [191., 200., 209.],\n",
            "             [236., 245., 254.],\n",
            "             [281., 290., 299.],\n",
            "             [326., 335., 344.]], dtype=float32)\n"
          ]
        }
      ]
    },
    {
      "cell_type": "code",
      "metadata": {
        "id": "zh0KaB1VcbnE",
        "colab": {
          "base_uri": "https://localhost:8080/"
        },
        "outputId": "18b3eacb-38d1-41ac-ff82-cbf81a4eb8d2"
      },
      "source": [
        "# The amazing thing is if you just swap vmap for pmap you are now running on multiple\n",
        "# devices. How cool is that?\n",
        "pmap_result = jax.pmap(convolve)(ws, xs)\n",
        "print(repr(pmap_result))  # ShardedDeviceArray!"
      ],
      "execution_count": 78,
      "outputs": [
        {
          "output_type": "stream",
          "name": "stdout",
          "text": [
            "ShardedDeviceArray([[ 11.,  20.,  29.],\n",
            "                    [ 56.,  65.,  74.],\n",
            "                    [101., 110., 119.],\n",
            "                    [146., 155., 164.],\n",
            "                    [191., 200., 209.],\n",
            "                    [236., 245., 254.],\n",
            "                    [281., 290., 299.],\n",
            "                    [326., 335., 344.]], dtype=float32)\n"
          ]
        }
      ]
    },
    {
      "cell_type": "code",
      "metadata": {
        "id": "9AQkWD20ceq4",
        "colab": {
          "base_uri": "https://localhost:8080/"
        },
        "outputId": "7687dcfa-b039-4b48-dea7-47b8e34a0fbc"
      },
      "source": [
        "# No cross-device communication costs. Computations are done independently on each dev.\n",
        "double_pmap_result = jax.pmap(convolve)(jax.pmap(convolve)(ws, xs), xs)\n",
        "print(repr(double_pmap_result))"
      ],
      "execution_count": 79,
      "outputs": [
        {
          "output_type": "stream",
          "name": "stdout",
          "text": [
            "ShardedDeviceArray([[   78.,   138.,   198.],\n",
            "                    [ 1188.,  1383.,  1578.],\n",
            "                    [ 3648.,  3978.,  4308.],\n",
            "                    [ 7458.,  7923.,  8388.],\n",
            "                    [12618., 13218., 13818.],\n",
            "                    [19128., 19863., 20598.],\n",
            "                    [26988., 27858., 28728.],\n",
            "                    [36198., 37203., 38208.]], dtype=float32)\n"
          ]
        }
      ]
    },
    {
      "cell_type": "code",
      "metadata": {
        "id": "NPUB-3Fvc-K9",
        "colab": {
          "base_uri": "https://localhost:8080/"
        },
        "outputId": "20a5db82-6795-4492-fc03-283a7f8a97ce"
      },
      "source": [
        "# Same results but we don't have to manually broadcast w (recall: same as for vmap!)\n",
        "pmap_smarter_result = jax.pmap(convolve, in_axes=(None, 0))(w, xs)\n",
        "print(repr(pmap_smarter_result))"
      ],
      "execution_count": 34,
      "outputs": [
        {
          "output_type": "stream",
          "name": "stdout",
          "text": [
            "ShardedDeviceArray([[ 11.,  20.,  29.],\n",
            "                    [ 56.,  65.,  74.],\n",
            "                    [101., 110., 119.],\n",
            "                    [146., 155., 164.],\n",
            "                    [191., 200., 209.],\n",
            "                    [236., 245., 254.],\n",
            "                    [281., 290., 299.],\n",
            "                    [326., 335., 344.]], dtype=float32)\n"
          ]
        }
      ]
    },
    {
      "cell_type": "markdown",
      "metadata": {
        "id": "6M41OD1EJK1d"
      },
      "source": [
        "This is all great, but oftentimes we do need to communicate between devices. 📱\n",
        "\n",
        "Let's see how that is handled."
      ]
    },
    {
      "cell_type": "markdown",
      "metadata": {
        "id": "9UUiPzdHeJfC"
      },
      "source": [
        "### Communication between devices"
      ]
    },
    {
      "cell_type": "code",
      "metadata": {
        "id": "cXjC_T4Jdmuc",
        "colab": {
          "base_uri": "https://localhost:8080/"
        },
        "outputId": "e0b20333-f136-4858-e4c1-7d2c86f0441d"
      },
      "source": [
        "# Same example as above but this time we communicate across devices \n",
        "# in order to normalize the outputs\n",
        "def normalized_convolution(w, x):\n",
        "    output = []\n",
        "\n",
        "    for i in range(1, len(x)-1):\n",
        "        output.append(jnp.dot(x[i-1:i+2], w))\n",
        "\n",
        "    output = jnp.array(output)  # same result as before\n",
        "\n",
        "    return output / jax.lax.psum(output, axis_name='batch_dim')  # this is where communication happens\n",
        "\n",
        "res_pmap = jax.pmap(normalized_convolution, axis_name='batch_dim', in_axes=(None, 0))(w, xs)\n",
        "res_vmap = jax.vmap(normalized_convolution, axis_name='batch_dim', in_axes=(None, 0))(w, xs)\n",
        "\n",
        "print(repr(res_pmap))\n",
        "print(repr(res_vmap))\n",
        "\n",
        "print(f'Verify the output is normalized: {sum(res_pmap[:, 0])}')"
      ],
      "execution_count": 35,
      "outputs": [
        {
          "output_type": "stream",
          "name": "stdout",
          "text": [
            "ShardedDeviceArray([[0.00816024, 0.01408451, 0.019437  ],\n",
            "                    [0.04154303, 0.04577465, 0.04959785],\n",
            "                    [0.07492582, 0.07746479, 0.07975871],\n",
            "                    [0.10830861, 0.10915492, 0.10991956],\n",
            "                    [0.14169139, 0.14084506, 0.14008042],\n",
            "                    [0.17507419, 0.17253521, 0.17024128],\n",
            "                    [0.20845698, 0.20422535, 0.20040214],\n",
            "                    [0.24183977, 0.23591548, 0.23056298]], dtype=float32)\n",
            "DeviceArray([[0.00816024, 0.01408451, 0.019437  ],\n",
            "             [0.04154303, 0.04577465, 0.04959785],\n",
            "             [0.07492582, 0.07746479, 0.07975871],\n",
            "             [0.10830861, 0.10915492, 0.10991956],\n",
            "             [0.14169139, 0.14084506, 0.14008042],\n",
            "             [0.17507419, 0.17253521, 0.17024128],\n",
            "             [0.20845698, 0.20422535, 0.20040214],\n",
            "             [0.24183977, 0.23591548, 0.23056298]], dtype=float32)\n",
            "Verify the output is normalized: 1.0\n"
          ]
        }
      ]
    },
    {
      "cell_type": "markdown",
      "metadata": {
        "id": "57uy7eIxL5BA"
      },
      "source": [
        "We're now ready to see the most complex model pipeline so far in JAX."
      ]
    },
    {
      "cell_type": "markdown",
      "metadata": {
        "id": "NydqBK3-sL9s"
      },
      "source": [
        "### Training a very simple model in parallel!"
      ]
    },
    {
      "cell_type": "code",
      "metadata": {
        "id": "q5bXckJojUct"
      },
      "source": [
        "class Params(NamedTuple):\n",
        "    weight: jnp.ndarray\n",
        "    bias: jnp.ndarray\n",
        "\n",
        "\n",
        "lr = 0.005\n",
        "\n",
        "\n",
        "def init_model(rng):\n",
        "    weights_key, bias_key = jax.random.split(rng)\n",
        "    weight = jax.random.normal(weights_key, ())\n",
        "    bias = jax.random.normal(bias_key, ())\n",
        "    return Params(weight, bias)\n",
        "\n",
        "\n",
        "def forward(params, xs):\n",
        "    return params.weight * xs + params.bias\n",
        "\n",
        "\n",
        "def loss_fn(params, xs, ys):\n",
        "    pred = forward(params, xs)\n",
        "    return jnp.mean((pred - ys) ** 2)  # MSE\n",
        "\n",
        "\n",
        "@functools.partial(jax.pmap, axis_name='batch')\n",
        "def update(params, xs, ys):\n",
        "\n",
        "    # Compute the gradients on the given minibatch (individually on each device).\n",
        "    loss, grads = jax.value_and_grad(loss_fn)(params, xs, ys)\n",
        "\n",
        "    # Combine the gradient across all devices (by taking their mean).\n",
        "    grads = jax.lax.pmean(grads, axis_name='batch')\n",
        "\n",
        "    # Also combine the loss. Unnecessary for the update, but useful for logging.\n",
        "    loss = jax.lax.pmean(loss, axis_name='batch')\n",
        "\n",
        "    # Each device performs its own SGD update, but since we start with the same params\n",
        "    # and synchronise gradients, the params stay in sync on each device.\n",
        "    new_params = jax.tree_map(\n",
        "        lambda param, g: param - g * lr, params, grads)\n",
        "    \n",
        "    # If we were using Adam or another stateful optimizer,\n",
        "    # we would also do something like:\n",
        "    # updates, new_optimizer_state = optimizer(grads, optimizer_state)\n",
        "    # and then use updates instead of grads to actually update the params.\n",
        "    # (And we'd include the new_optimizer_state in the output, naturally.)\n",
        "\n",
        "    return new_params, loss"
      ],
      "execution_count": 80,
      "outputs": []
    },
    {
      "cell_type": "code",
      "metadata": {
        "colab": {
          "base_uri": "https://localhost:8080/",
          "height": 265
        },
        "id": "unXtXH5Cn_D9",
        "outputId": "84fdee66-7785-4216-eb11-b6fd2f5f8d35"
      },
      "source": [
        "# Generate true data from y = w*x + b + noise\n",
        "true_w, true_b = 2, -1\n",
        "xs = np.random.normal(size=(128, 1))\n",
        "noise = 0.5 * np.random.normal(size=(128, 1))\n",
        "ys = xs * true_w + true_b + noise\n",
        "\n",
        "plt.scatter(xs, ys)\n",
        "plt.show()"
      ],
      "execution_count": 81,
      "outputs": [
        {
          "output_type": "display_data",
          "data": {
            "text/plain": [
              "<Figure size 432x288 with 1 Axes>"
            ],
            "image/png": "[encoded data removed]"
          },
          "metadata": {
            "needs_background": "light"
          }
        }
      ]
    },
    {
      "cell_type": "code",
      "metadata": {
        "id": "I-h0bNc7opqw",
        "colab": {
          "base_uri": "https://localhost:8080/"
        },
        "outputId": "e24de718-ff15-4d83-fe77-11ef9672d049"
      },
      "source": [
        "# Initialise parameters and replicate across devices.\n",
        "params = init_model(jax.random.PRNGKey(0))\n",
        "n_devices = jax.local_device_count()\n",
        "replicated_params = jax.tree_map(lambda x: jnp.array([x] * n_devices), params)\n",
        "print(replicated_params)\n",
        "\n",
        "# Prepare the data\n",
        "def reshape_for_pmap(data, n_devices):\n",
        "    return data.reshape(n_devices, data.shape[0] // n_devices, *data.shape[1:])\n",
        "\n",
        "x_parallel = reshape_for_pmap(xs, n_devices)\n",
        "y_parallel = reshape_for_pmap(ys, n_devices)\n",
        "\n",
        "print(x_parallel.shape, y_parallel.shape)"
      ],
      "execution_count": 82,
      "outputs": [
        {
          "output_type": "stream",
          "name": "stdout",
          "text": [
            "Params(weight=DeviceArray([0.14389051, 0.14389051, 0.14389051, 0.14389051, 0.14389051,\n",
            "             0.14389051, 0.14389051, 0.14389051], dtype=float32), bias=DeviceArray([-1.2515285, -1.2515285, -1.2515285, -1.2515285, -1.2515285,\n",
            "             -1.2515285, -1.2515285, -1.2515285], dtype=float32))\n",
            "(8, 16, 1) (8, 16, 1)\n"
          ]
        }
      ]
    },
    {
      "cell_type": "code",
      "metadata": {
        "id": "N0Qm-vgkoxHb",
        "colab": {
          "base_uri": "https://localhost:8080/"
        },
        "outputId": "71ea8674-8b9c-4bae-9354-28655185e5cd"
      },
      "source": [
        "def type_after_update(name, obj):\n",
        "    print(f\"after first `update()`, `{name}` is a {type(obj)}\")\n",
        "\n",
        "# Actual training loop\n",
        "num_epochs = 1000\n",
        "for epoch in range(num_epochs):\n",
        "\n",
        "    # This is where the params and data gets communicated to devices\n",
        "    replicated_params, loss = update(replicated_params, x_parallel, y_parallel)\n",
        "\n",
        "    # replicated_params and loss are now both ShardedDeviceArrays,\n",
        "    # indicating that they're on the devices.\n",
        "    # x/y_parallel remains a NumPy array on the host (simulating data streaming).\n",
        "    if epoch == 0:\n",
        "        type_after_update('replicated_params.weight', replicated_params.weight)\n",
        "        type_after_update('loss', loss)\n",
        "        type_after_update('x_parallel', x_parallel)\n",
        "\n",
        "    if epoch % 100 == 0:\n",
        "        print(loss.shape)\n",
        "        print(f\"Step {epoch:3d}, loss: {loss[0]:.3f}\")\n",
        "\n",
        "# Like the loss, the leaves of params have an extra leading dimension,\n",
        "# so we take the params from the first device.\n",
        "params = jax.device_get(jax.tree_map(lambda x: x[0], replicated_params))"
      ],
      "execution_count": 83,
      "outputs": [
        {
          "output_type": "stream",
          "name": "stdout",
          "text": [
            "after first `update()`, `replicated_params.weight` is a <class 'jax.interpreters.pxla._ShardedDeviceArray'>\n",
            "after first `update()`, `loss` is a <class 'jax.interpreters.pxla._ShardedDeviceArray'>\n",
            "after first `update()`, `x_parallel` is a <class 'numpy.ndarray'>\n",
            "(8,)\n",
            "Step   0, loss: 3.563\n",
            "(8,)\n",
            "Step 100, loss: 0.691\n",
            "(8,)\n",
            "Step 200, loss: 0.291\n",
            "(8,)\n",
            "Step 300, loss: 0.236\n",
            "(8,)\n",
            "Step 400, loss: 0.228\n",
            "(8,)\n",
            "Step 500, loss: 0.227\n",
            "(8,)\n",
            "Step 600, loss: 0.227\n",
            "(8,)\n",
            "Step 700, loss: 0.227\n",
            "(8,)\n",
            "Step 800, loss: 0.227\n",
            "(8,)\n",
            "Step 900, loss: 0.227\n"
          ]
        }
      ]
    },
    {
      "cell_type": "code",
      "metadata": {
        "colab": {
          "base_uri": "https://localhost:8080/",
          "height": 265
        },
        "id": "c0tCilpSpKWw",
        "outputId": "9803cedb-1bd2-4681-839a-c351c38d5542"
      },
      "source": [
        "plt.scatter(xs, ys)\n",
        "plt.plot(xs, forward(params, xs), c='red', label='Model Prediction')\n",
        "plt.legend()\n",
        "plt.show()"
      ],
      "execution_count": 84,
      "outputs": [
        {
          "output_type": "display_data",
          "data": {
            "text/plain": [
              "<Figure size 432x288 with 1 Axes>"
            ],
            "image/png": "[encoded data removed]"
          },
          "metadata": {
            "needs_background": "light"
          }
        }
      ]
    }
  ]
}